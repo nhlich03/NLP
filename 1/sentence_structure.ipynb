{
 "cells": [
  {
   "cell_type": "markdown",
   "metadata": {},
   "source": [
    "## Create the dictionary file for labels (first from A-Z and then from a-)"
   ]
  },
  {
   "cell_type": "code",
   "execution_count": 50,
   "metadata": {},
   "outputs": [
    {
     "name": "stdout",
     "output_type": "stream",
     "text": [
      "{'nounmod': 'a', 'predet': 'l', 'dep': 'S', 'prep': 'm', 'nsubjpass': 'd', 'nsubj': 'c', 'acomp': 'B', 'appos': 'G', 'parataxis': 'g', 'root': 'r', 'ccomp': 'M', 'csubjpass': 'Q', 'relcl': 'q', 'case': 'K', 'pcomp': 'h', 'det': 'T', 'nmod': 'a', 'preconj': 'k', 'acl': 'A', 'advmod': 'D', 'auxpass': 'J', 'nummod': 'e', 'dobj': 'U', 'meta': 'Y', 'oprd': 'f', 'expl': 'V', 'csubj': 'P', 'agent': 'E', 'intj': 'W', 'aux': 'I', 'pobj': 'i', 'quantmod': 'p', 'advcl': 'C', 'amod': 'F', 'prt': 'n', 'conj': 'O', 'neg': 'Z', 'npmod': 'b', 'attr': 'H', 'poss': 'j', 'punct': 'o', 'compound': 'N', 'mark': 'X', 'cc': 'L', 'npadvmod': 'b', 'xcomp': 's', 'dative': 'R'}\n"
     ]
    }
   ],
   "source": [
    "f = open('deps.txt')\n",
    "lines = f.read().splitlines()\n",
    "f.close()\n",
    "\n",
    "deps_dict = {}\n",
    "counter = 65\n",
    "for dep in lines:\n",
    "    deps_dict[dep.replace(' ', '').lower()] = chr(counter)\n",
    "    if(counter == 90):\n",
    "        counter = 97\n",
    "    else:\n",
    "        counter += 1\n",
    "\n",
    "# deprecated labels to be taken care of\n",
    "deps_dict['npadvmod'] = 'b'\n",
    "deps_dict['nmod'] = 'a'\n",
    "print(deps_dict)\n",
    "\n",
    "import numpy as np\n",
    "np.save('deps_dict.npy', deps_dict)"
   ]
  },
  {
   "cell_type": "markdown",
   "metadata": {},
   "source": [
    "## Sample produce a sentence code"
   ]
  },
  {
   "cell_type": "code",
   "execution_count": 2,
   "metadata": {},
   "outputs": [
    {
     "name": "stdout",
     "output_type": "stream",
     "text": [
      "nsubjauxrootpunct\n"
     ]
    }
   ],
   "source": [
    "import spacy\n",
    "nlp = spacy.load('en_core_web_sm')\n",
    "doc = nlp(\"We are walking.\")\n",
    "\n",
    "sent_struct = []\n",
    "for token in doc:\n",
    "    sent_struct.append(token.dep_.lower())\n",
    "\n",
    "sentence_code = ''.join(sent_struct)\n",
    "print(sentence_code)"
   ]
  },
  {
   "cell_type": "code",
   "execution_count": 20,
   "metadata": {},
   "outputs": [],
   "source": [
    "def encode_sentence(english):\n",
    "    doc = nlp(english)\n",
    "\n",
    "    sent_struct = []\n",
    "    for token in doc:\n",
    "        sent_struct.append(deps_dict[token.dep_.lower()])\n",
    "\n",
    "    sentence_code = ''.join(sent_struct)\n",
    "    return sentence_code"
   ]
  },
  {
   "cell_type": "markdown",
   "metadata": {},
   "source": [
    "## First, create a dictionary of the sentence codes (with their occurences)"
   ]
  },
  {
   "cell_type": "code",
   "execution_count": 4,
   "metadata": {},
   "outputs": [],
   "source": [
    "import nltk\n",
    "from nltk.corpus import brown\n",
    "from nltk.tokenize.moses import MosesDetokenizer\n",
    "mdetok = MosesDetokenizer()"
   ]
  },
  {
   "cell_type": "code",
   "execution_count": 5,
   "metadata": {},
   "outputs": [],
   "source": [
    "sentence_code_dict = {}\n",
    "\n",
    "for book in brown.fileids():\n",
    "    for sent in brown.sents(book):\n",
    "        munged_sentence = ' '.join(sent).replace('``', '\"').replace(\"''\", '\"').replace('`', \"'\")\n",
    "        payload = nlp(mdetok.detokenize(munged_sentence.split(), return_str=True))\n",
    "        sent_struct = []\n",
    "        for token in payload:\n",
    "            sent_struct.append(deps_dict[token.dep_.lower()])\n",
    "    \n",
    "        sentence_code = ''.join(sent_struct)\n",
    "        #print(payload.text)\n",
    "        #print(sentence_code)\n",
    "        #print('--')\n",
    "        if sentence_code in sentence_code_dict:\n",
    "            sentence_code_dict[sentence_code] += 1\n",
    "        else:\n",
    "            sentence_code_dict[sentence_code] = 1\n",
    "\n",
    "# print(sentence_code_dict)"
   ]
  },
  {
   "cell_type": "code",
   "execution_count": 102,
   "metadata": {},
   "outputs": [
    {
     "name": "stdout",
     "output_type": "stream",
     "text": [
      "cIrTDFHbo\n"
     ]
    }
   ],
   "source": [
    "custom_sentence = 'Ronaldo has been the most consistent performer today.'\n",
    "payload = nlp(custom_sentence)\n",
    "sent_struct = []\n",
    "for token in payload:\n",
    "    sent_struct.append(deps_dict[token.dep_.lower()])\n",
    "sentence_code = ''.join(sent_struct)\n",
    "print(sentence_code)\n",
    "if sentence_code in sentence_code_dict:\n",
    "    sentence_code_dict[sentence_code] += 1\n",
    "else:\n",
    "    sentence_code_dict[sentence_code] = 1"
   ]
  },
  {
   "cell_type": "code",
   "execution_count": 103,
   "metadata": {},
   "outputs": [
    {
     "data": {
      "text/plain": [
       "7"
      ]
     },
     "execution_count": 103,
     "metadata": {},
     "output_type": "execute_result"
    }
   ],
   "source": [
    "sentence_code_dict['TcIrmTio']"
   ]
  },
  {
   "cell_type": "markdown",
   "metadata": {},
   "source": [
    "## Now this dictionary needs to be written to file (both as npy and text file)"
   ]
  },
  {
   "cell_type": "code",
   "execution_count": 104,
   "metadata": {},
   "outputs": [],
   "source": [
    "f = open('sentence_codes.txt', 'w')\n",
    "\n",
    "for key, value in sentence_code_dict.items():\n",
    "    f.write(key + ' ' + str(value) + '\\n')\n",
    "\n",
    "f.close()\n",
    "\n",
    "import numpy as np\n",
    "np.save('sentence_correction_dict.npy', sentence_code_dict)"
   ]
  },
  {
   "cell_type": "markdown",
   "metadata": {},
   "source": [
    "## Watch sentence correction in action"
   ]
  },
  {
   "cell_type": "code",
   "execution_count": 26,
   "metadata": {},
   "outputs": [
    {
     "name": "stdout",
     "output_type": "stream",
     "text": [
      "cIrjFHmio:3:1\n",
      "wrong :      cIrDFHmio\n",
      "correction : cIrjFHmio\n",
      "position : 1\n"
     ]
    }
   ],
   "source": [
    "import os\n",
    "\n",
    "import numpy as np\n",
    "from sympound import sympound\n",
    "\n",
    "import platform\n",
    "distancefun = None\n",
    "if platform.system() != \"Windows\":\n",
    "    from pyxdameraulevenshtein import damerau_levenshtein_distance\n",
    "    distancefun = damerau_levenshtein_distance\n",
    "else:\n",
    "    from jellyfish import levenshtein_distance\n",
    "    distancefun = levenshtein_distance\n",
    "\n",
    "\n",
    "ssc = sympound(distancefun=distancefun, maxDictionaryEditDistance=3)\n",
    "\n",
    "def test():\n",
    "    # ssc.create_dictionary_entry(\"bonjour\", 1) # optional, only if adding dictionary items is required\n",
    "    \n",
    "    sc_dict = np.load('sentence_correction_dict.npy').item()\n",
    "    \n",
    "    ssc.load_dictionary(\"sentence_codes.txt\", term_index=0, count_index=1)\n",
    "    payload = encode_sentence('Ronaldo has been most consistent performer on today.')\n",
    "    \n",
    "    if payload in sc_dict:\n",
    "        print('correct!')\n",
    "        return\n",
    "    \n",
    "    try:\n",
    "        #result = ssc.lookup_compound(input_string=payload, edit_distance_max=1) # choose edit_distance carefully\n",
    "        result = ssc.lookup(input_string=payload, verbosity=0, edit_distance_max=1) # choose edit_distance carefully\n",
    "    except TypeError:\n",
    "        print('no matches!')\n",
    "        return\n",
    "    \n",
    "    if(result == []):\n",
    "        return\n",
    "    \n",
    "    print(result[-1])\n",
    "    result = str(result[-1]).split(':')\n",
    "    print('wrong :      ' + payload)\n",
    "    print('correction : ' + result[0])\n",
    "    print('position : ' + result[2])\n",
    "    \n",
    "    ssc.save_pickle(\"symspell.pickle\")\n",
    "    #ssc.load_pickle(\"symspell.pickle\")\n",
    "\n",
    "test()"
   ]
  },
  {
   "cell_type": "markdown",
   "metadata": {},
   "source": [
    "## Decode the encoded sentence structure string"
   ]
  },
  {
   "cell_type": "code",
   "execution_count": 49,
   "metadata": {},
   "outputs": [
    {
     "name": "stdout",
     "output_type": "stream",
     "text": [
      "{'h': 'pcomp', 'i': 'pobj', 'Z': 'neg', 'Q': 'csubjpass', 'K': 'case', 'B': 'acomp', 'g': 'parataxis', 'o': 'punct', 'U': 'dobj', 'R': 'dative', 'A': 'acl', 'j': 'poss', 'S': 'dep', 'f': 'oprd', 'W': 'intj', 'm': 'prep', 'G': 'appos', 'F': 'amod', 'd': 'nsubjpass', 's': 'xcomp', 'C': 'advcl', 'Y': 'meta', 'I': 'aux', 'l': 'predet', 'n': 'prt', 'q': 'relcl', 'V': 'expl', 'k': 'preconj', 'D': 'advmod', 'r': 'root', 'T': 'det', 'N': 'compound', 'O': 'conj', 'a': 'nmod', 'E': 'agent', 'p': 'quantmod', 'c': 'nsubj', 'e': 'nummod', 'L': 'cc', 'H': 'attr', 'b': 'npadvmod', 'P': 'csubj', 'J': 'auxpass', 'X': 'mark', 'M': 'ccomp'}\n"
     ]
    }
   ],
   "source": [
    "f = open('deps.txt')\n",
    "lines = f.read().splitlines()\n",
    "f.close()\n",
    "\n",
    "inv_deps_dict = {}\n",
    "counter = 65\n",
    "for dep in lines:\n",
    "    inv_deps_dict[chr(counter)] = dep.replace(' ', '').lower()\n",
    "    if(counter == 90):\n",
    "        counter = 97\n",
    "    else:\n",
    "        counter += 1\n",
    "\n",
    "# deprecated labels to be taken care of\n",
    "inv_deps_dict['b'] = 'npadvmod'\n",
    "inv_deps_dict['a'] = 'nmod'\n",
    "print(inv_deps_dict)\n",
    "\n",
    "import numpy as np\n",
    "np.save('inv_deps_dict.npy', inv_deps_dict)"
   ]
  },
  {
   "cell_type": "code",
   "execution_count": 24,
   "metadata": {},
   "outputs": [],
   "source": [
    "def decode_coding(code):\n",
    "    code_list = list(code.replace(' ', ''))\n",
    "    decoded_list = []\n",
    "    for char in code_list:\n",
    "        decoded_list.append(inv_deps_dict[char])\n",
    "    return decoded_list"
   ]
  },
  {
   "cell_type": "code",
   "execution_count": 26,
   "metadata": {},
   "outputs": [
    {
     "data": {
      "text/plain": [
       "['det', 'nsubj', 'aux', 'aux', 'root', 'prep', 'det', 'pobj', 'punct']"
      ]
     },
     "execution_count": 26,
     "metadata": {},
     "output_type": "execute_result"
    }
   ],
   "source": [
    "mycode = 'TcIIrmTio'\n",
    "decode_coding(mycode)"
   ]
  },
  {
   "cell_type": "code",
   "execution_count": 27,
   "metadata": {},
   "outputs": [
    {
     "name": "stdout",
     "output_type": "stream",
     "text": [
      "cIrDTHmio:9223372036854775807:1\n",
      "wrong :      cIrDFHmio\n",
      "correction : cIrDTHmio\n"
     ]
    }
   ],
   "source": [
    "def correct():\n",
    "    # ssc.create_dictionary_entry(\"bonjour\", 1) # optional, only if adding dictionary items is required\n",
    "    \n",
    "    sc_dict = np.load('sentence_correction_dict.npy').item()\n",
    "    \n",
    "    ssc.load_dictionary(\"sentence_codes.txt\", term_index=0, count_index=1)\n",
    "    payload = encode_sentence('Ronaldo has been most consistent performer in today.')\n",
    "    \n",
    "    if payload in sc_dict:\n",
    "        print('correct!')\n",
    "        return\n",
    "    \n",
    "    try:\n",
    "        #result = ssc.lookup_compound(input_string=payload, edit_distance_max=1) # choose edit_distance carefully\n",
    "        result = ssc.lookup(input_string=payload, verbosity=0, edit_distance_max=1) # choose edit_distance carefully\n",
    "    except TypeError:\n",
    "        print('no matches!')\n",
    "        return\n",
    "    \n",
    "    if(result == []):\n",
    "        return\n",
    "    \n",
    "    print(result[-1])\n",
    "    result = str(result[-1]).split(':')\n",
    "    print('wrong :      ' + payload)\n",
    "    print('correction : ' + result[0])\n",
    "    #print('position : ' + result[2])\n",
    "    \n",
    "    correct_broke = list(result[0])\n",
    "    wrong_broke = list(payload)\n",
    "    \n",
    "    ssc.save_pickle(\"symspell.pickle\")\n",
    "    #ssc.load_pickle(\"symspell.pickle\")\n",
    "\n",
    "correct()"
   ]
  },
  {
   "cell_type": "markdown",
   "metadata": {},
   "source": [
    "## Comparing strings and finding out the exact error"
   ]
  },
  {
   "cell_type": "code",
   "execution_count": 47,
   "metadata": {},
   "outputs": [
    {
     "data": {
      "text/plain": [
       "['c', 'I', 'F', 'r', 'T', 'D', 'H', 'b', 'o']"
      ]
     },
     "execution_count": 47,
     "metadata": {},
     "output_type": "execute_result"
    }
   ],
   "source": [
    "correct = list('cIFrTDFHboT')\n",
    "wrong = list('cIrDFHboT')\n",
    "common = [ e for e in correct if e in wrong and (wrong.pop(wrong.index(e)) or True)]\n",
    "common"
   ]
  },
  {
   "cell_type": "code",
   "execution_count": 37,
   "metadata": {},
   "outputs": [
    {
     "data": {
      "text/plain": [
       "'4'"
      ]
     },
     "execution_count": 37,
     "metadata": {},
     "output_type": "execute_result"
    }
   ],
   "source": [
    "x = ['1', '2', '3', '4']\n",
    "x.pop(3)"
   ]
  },
  {
   "cell_type": "code",
   "execution_count": 39,
   "metadata": {},
   "outputs": [
    {
     "data": {
      "text/plain": [
       "['c', 'I', 'r', 'D', 'F', 'H', 'b', 'o', 'T']"
      ]
     },
     "execution_count": 39,
     "metadata": {},
     "output_type": "execute_result"
    }
   ],
   "source": [
    "wrong"
   ]
  },
  {
   "cell_type": "code",
   "execution_count": 40,
   "metadata": {},
   "outputs": [
    {
     "name": "stdout",
     "output_type": "stream",
     "text": [
      "[]\n"
     ]
    }
   ],
   "source": [
    "def Diff(li1, li2):\n",
    "    li_dif = [i for i in li1 + li2 if i not in li2]\n",
    "    return li_dif\n",
    " \n",
    "# Driver Code\n",
    "li1 = ['c', 'I', 'F', 'r', 'T', 'D', 'F', 'H', 'b', 'o', 'T']\n",
    "li2 = ['c', 'I', 'r', 'D', 'F', 'H', 'b', 'o', 'T']\n",
    "li3 = Diff(li1, li2)\n",
    "print(li3)"
   ]
  },
  {
   "cell_type": "code",
   "execution_count": 30,
   "metadata": {},
   "outputs": [
    {
     "data": {
      "text/plain": [
       "[10, 15, 20, 25, 30, 35, 30, 25, 40, 35, 30]"
      ]
     },
     "execution_count": 30,
     "metadata": {},
     "output_type": "execute_result"
    }
   ],
   "source": [
    "li1 + li2"
   ]
  },
  {
   "cell_type": "code",
   "execution_count": null,
   "metadata": {},
   "outputs": [],
   "source": []
  }
 ],
 "metadata": {
  "kernelspec": {
   "display_name": "Python 3 (ipykernel)",
   "language": "python",
   "name": "python3"
  },
  "language_info": {
   "codemirror_mode": {
    "name": "ipython",
    "version": 3
   },
   "file_extension": ".py",
   "mimetype": "text/x-python",
   "name": "python",
   "nbconvert_exporter": "python",
   "pygments_lexer": "ipython3",
   "version": "3.10.2"
  }
 },
 "nbformat": 4,
 "nbformat_minor": 2
}
